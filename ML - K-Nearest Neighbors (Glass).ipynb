{
 "cells": [
  {
   "cell_type": "markdown",
   "id": "56244fb9",
   "metadata": {},
   "source": [
    "# Evaluación de un modelo de K-Nearest Neighbors\n",
    "\n",
    "En este proyecto se utiliza el modelo de K-Nearest Neighbors (K-Vecinos más cercanos) y se aplica a un dataset llamado \"Glass UCI\". Se trata de determinar qué tan bueno o malo resulta ser el modelo cuando se utiliza para realizar una regresión logística y una regresión lineal."
   ]
  },
  {
   "cell_type": "code",
   "execution_count": 1,
   "id": "b352fbd5",
   "metadata": {},
   "outputs": [],
   "source": [
    "import pandas as pd\n",
    "import numpy as np"
   ]
  },
  {
   "cell_type": "code",
   "execution_count": 2,
   "id": "6493f5e5",
   "metadata": {},
   "outputs": [],
   "source": [
    "# Leemos el archivo\n",
    "glass = pd.read_csv(\"C:\\\\Users\\\\Luis Carlos\\\\Documents\\\\CSVs\\\\glass.csv\")"
   ]
  },
  {
   "cell_type": "code",
   "execution_count": 3,
   "id": "65439ac4",
   "metadata": {},
   "outputs": [
    {
     "data": {
      "text/html": [
       "<div>\n",
       "<style scoped>\n",
       "    .dataframe tbody tr th:only-of-type {\n",
       "        vertical-align: middle;\n",
       "    }\n",
       "\n",
       "    .dataframe tbody tr th {\n",
       "        vertical-align: top;\n",
       "    }\n",
       "\n",
       "    .dataframe thead th {\n",
       "        text-align: right;\n",
       "    }\n",
       "</style>\n",
       "<table border=\"1\" class=\"dataframe\">\n",
       "  <thead>\n",
       "    <tr style=\"text-align: right;\">\n",
       "      <th></th>\n",
       "      <th>RI</th>\n",
       "      <th>Na</th>\n",
       "      <th>Mg</th>\n",
       "      <th>Al</th>\n",
       "      <th>Si</th>\n",
       "      <th>K</th>\n",
       "      <th>Ca</th>\n",
       "      <th>Ba</th>\n",
       "      <th>Fe</th>\n",
       "      <th>Type</th>\n",
       "    </tr>\n",
       "  </thead>\n",
       "  <tbody>\n",
       "    <tr>\n",
       "      <th>0</th>\n",
       "      <td>1.52101</td>\n",
       "      <td>13.64</td>\n",
       "      <td>4.49</td>\n",
       "      <td>1.10</td>\n",
       "      <td>71.78</td>\n",
       "      <td>0.06</td>\n",
       "      <td>8.75</td>\n",
       "      <td>0.00</td>\n",
       "      <td>0.0</td>\n",
       "      <td>1</td>\n",
       "    </tr>\n",
       "    <tr>\n",
       "      <th>1</th>\n",
       "      <td>1.51761</td>\n",
       "      <td>13.89</td>\n",
       "      <td>3.60</td>\n",
       "      <td>1.36</td>\n",
       "      <td>72.73</td>\n",
       "      <td>0.48</td>\n",
       "      <td>7.83</td>\n",
       "      <td>0.00</td>\n",
       "      <td>0.0</td>\n",
       "      <td>1</td>\n",
       "    </tr>\n",
       "    <tr>\n",
       "      <th>2</th>\n",
       "      <td>1.51618</td>\n",
       "      <td>13.53</td>\n",
       "      <td>3.55</td>\n",
       "      <td>1.54</td>\n",
       "      <td>72.99</td>\n",
       "      <td>0.39</td>\n",
       "      <td>7.78</td>\n",
       "      <td>0.00</td>\n",
       "      <td>0.0</td>\n",
       "      <td>1</td>\n",
       "    </tr>\n",
       "    <tr>\n",
       "      <th>3</th>\n",
       "      <td>1.51766</td>\n",
       "      <td>13.21</td>\n",
       "      <td>3.69</td>\n",
       "      <td>1.29</td>\n",
       "      <td>72.61</td>\n",
       "      <td>0.57</td>\n",
       "      <td>8.22</td>\n",
       "      <td>0.00</td>\n",
       "      <td>0.0</td>\n",
       "      <td>1</td>\n",
       "    </tr>\n",
       "    <tr>\n",
       "      <th>4</th>\n",
       "      <td>1.51742</td>\n",
       "      <td>13.27</td>\n",
       "      <td>3.62</td>\n",
       "      <td>1.24</td>\n",
       "      <td>73.08</td>\n",
       "      <td>0.55</td>\n",
       "      <td>8.07</td>\n",
       "      <td>0.00</td>\n",
       "      <td>0.0</td>\n",
       "      <td>1</td>\n",
       "    </tr>\n",
       "    <tr>\n",
       "      <th>...</th>\n",
       "      <td>...</td>\n",
       "      <td>...</td>\n",
       "      <td>...</td>\n",
       "      <td>...</td>\n",
       "      <td>...</td>\n",
       "      <td>...</td>\n",
       "      <td>...</td>\n",
       "      <td>...</td>\n",
       "      <td>...</td>\n",
       "      <td>...</td>\n",
       "    </tr>\n",
       "    <tr>\n",
       "      <th>209</th>\n",
       "      <td>1.51623</td>\n",
       "      <td>14.14</td>\n",
       "      <td>0.00</td>\n",
       "      <td>2.88</td>\n",
       "      <td>72.61</td>\n",
       "      <td>0.08</td>\n",
       "      <td>9.18</td>\n",
       "      <td>1.06</td>\n",
       "      <td>0.0</td>\n",
       "      <td>7</td>\n",
       "    </tr>\n",
       "    <tr>\n",
       "      <th>210</th>\n",
       "      <td>1.51685</td>\n",
       "      <td>14.92</td>\n",
       "      <td>0.00</td>\n",
       "      <td>1.99</td>\n",
       "      <td>73.06</td>\n",
       "      <td>0.00</td>\n",
       "      <td>8.40</td>\n",
       "      <td>1.59</td>\n",
       "      <td>0.0</td>\n",
       "      <td>7</td>\n",
       "    </tr>\n",
       "    <tr>\n",
       "      <th>211</th>\n",
       "      <td>1.52065</td>\n",
       "      <td>14.36</td>\n",
       "      <td>0.00</td>\n",
       "      <td>2.02</td>\n",
       "      <td>73.42</td>\n",
       "      <td>0.00</td>\n",
       "      <td>8.44</td>\n",
       "      <td>1.64</td>\n",
       "      <td>0.0</td>\n",
       "      <td>7</td>\n",
       "    </tr>\n",
       "    <tr>\n",
       "      <th>212</th>\n",
       "      <td>1.51651</td>\n",
       "      <td>14.38</td>\n",
       "      <td>0.00</td>\n",
       "      <td>1.94</td>\n",
       "      <td>73.61</td>\n",
       "      <td>0.00</td>\n",
       "      <td>8.48</td>\n",
       "      <td>1.57</td>\n",
       "      <td>0.0</td>\n",
       "      <td>7</td>\n",
       "    </tr>\n",
       "    <tr>\n",
       "      <th>213</th>\n",
       "      <td>1.51711</td>\n",
       "      <td>14.23</td>\n",
       "      <td>0.00</td>\n",
       "      <td>2.08</td>\n",
       "      <td>73.36</td>\n",
       "      <td>0.00</td>\n",
       "      <td>8.62</td>\n",
       "      <td>1.67</td>\n",
       "      <td>0.0</td>\n",
       "      <td>7</td>\n",
       "    </tr>\n",
       "  </tbody>\n",
       "</table>\n",
       "<p>214 rows × 10 columns</p>\n",
       "</div>"
      ],
      "text/plain": [
       "          RI     Na    Mg    Al     Si     K    Ca    Ba   Fe  Type\n",
       "0    1.52101  13.64  4.49  1.10  71.78  0.06  8.75  0.00  0.0     1\n",
       "1    1.51761  13.89  3.60  1.36  72.73  0.48  7.83  0.00  0.0     1\n",
       "2    1.51618  13.53  3.55  1.54  72.99  0.39  7.78  0.00  0.0     1\n",
       "3    1.51766  13.21  3.69  1.29  72.61  0.57  8.22  0.00  0.0     1\n",
       "4    1.51742  13.27  3.62  1.24  73.08  0.55  8.07  0.00  0.0     1\n",
       "..       ...    ...   ...   ...    ...   ...   ...   ...  ...   ...\n",
       "209  1.51623  14.14  0.00  2.88  72.61  0.08  9.18  1.06  0.0     7\n",
       "210  1.51685  14.92  0.00  1.99  73.06  0.00  8.40  1.59  0.0     7\n",
       "211  1.52065  14.36  0.00  2.02  73.42  0.00  8.44  1.64  0.0     7\n",
       "212  1.51651  14.38  0.00  1.94  73.61  0.00  8.48  1.57  0.0     7\n",
       "213  1.51711  14.23  0.00  2.08  73.36  0.00  8.62  1.67  0.0     7\n",
       "\n",
       "[214 rows x 10 columns]"
      ]
     },
     "execution_count": 3,
     "metadata": {},
     "output_type": "execute_result"
    }
   ],
   "source": [
    "# Visualizamos la tabla\n",
    "glass"
   ]
  },
  {
   "cell_type": "markdown",
   "id": "83cad31b",
   "metadata": {},
   "source": [
    "Este es un conjunto de datos de identificación de vidrio de UCI. Contiene 10 atributos. Se observa que es una tabla con 214 filas y 10 columnas.\n",
    "\n",
    "La columnas se describen a continuación.\n",
    "1. RI: Índice de refracción\n",
    "2. Na: Sodio (unidad de medida: porcentaje en peso en el óxido correspondiente; de igual forma son los atributos 3 a 9)\n",
    "3. Mg: Magnesio\n",
    "4. Al: Aluminio\n",
    "5. Si: Silicio\n",
    "6. K: Potasio\n",
    "7. Ca: Calcio\n",
    "8. Ba: Bario\n",
    "9. Fe: Hierro"
   ]
  },
  {
   "cell_type": "markdown",
   "id": "3d8b2519",
   "metadata": {},
   "source": [
    "Los tipos de vidrio son:\n",
    "1.- Ventana de edificio procesada flotante\n",
    "2.- Ventana de edificio no procesada flotante\n",
    "3.- Ventana de vehículo procesada flotante\n",
    "4.- Ventanas de vehículos no procesadas flotante (ninguna en esta base de datos)\n",
    "5.- Contenedores\n",
    "6.- Vajillas\n",
    "7.- Faros\n",
    "\n",
    "Nota: El estudio de clasificación de tipos de vidrio fue motivado por investigación criminológica. En la escena del crimen, el tipo de vidrio se puede utilizar como evidencia... ¡si se identifica correctamente!"
   ]
  },
  {
   "cell_type": "markdown",
   "id": "20db3a78",
   "metadata": {},
   "source": [
    "### KNN para problema de clasificación\n",
    "\n",
    "Para nuestro problema de clasificación se utilizará la columna 'Type' como variable objetivo, es decir, la que intentaremos predecir. Esta columna se refiere al tipo de vidrio, la cual puede contener 1 de entre 7 valores discretos."
   ]
  },
  {
   "cell_type": "code",
   "execution_count": 4,
   "id": "5b0283f1",
   "metadata": {},
   "outputs": [
    {
     "data": {
      "text/plain": [
       "2    76\n",
       "1    70\n",
       "7    29\n",
       "3    17\n",
       "5    13\n",
       "6     9\n",
       "Name: Type, dtype: int64"
      ]
     },
     "execution_count": 4,
     "metadata": {},
     "output_type": "execute_result"
    }
   ],
   "source": [
    "# Observamos cómo están distribuidos los datos de la variable objetivo\n",
    "glass.Type.value_counts()"
   ]
  },
  {
   "cell_type": "code",
   "execution_count": 5,
   "id": "6f1e17d5",
   "metadata": {},
   "outputs": [
    {
     "data": {
      "text/plain": [
       "<seaborn.axisgrid.FacetGrid at 0x1bd054d1ac0>"
      ]
     },
     "execution_count": 5,
     "metadata": {},
     "output_type": "execute_result"
    },
    {
     "data": {
      "image/png": "[encoded data removed]",
      "text/plain": [
       "<Figure size 216x216 with 1 Axes>"
      ]
     },
     "metadata": {
      "needs_background": "light"
     },
     "output_type": "display_data"
    }
   ],
   "source": [
    "# Visualizamos gráficamente esta proporción\n",
    "import seaborn as sns\n",
    "sns.displot(glass['Type'], height=3)"
   ]
  },
  {
   "cell_type": "code",
   "execution_count": 6,
   "id": "ca8777c6",
   "metadata": {},
   "outputs": [],
   "source": [
    "from sklearn.neighbors import KNeighborsClassifier\n",
    "from sklearn.model_selection import train_test_split"
   ]
  },
  {
   "cell_type": "code",
   "execution_count": 7,
   "id": "4f7d93f1",
   "metadata": {},
   "outputs": [],
   "source": [
    "# Definimos las columnas que serán las variables independientes y la variable objetivo\n",
    "from sklearn.metrics import f1_score\n",
    "\n",
    "variable_objetivo_clasificacion = \"Type\"\n",
    "variables_independientes_clasificacion = glass.drop(\n",
    "    variable_objetivo_clasificacion, axis=1).columns"
   ]
  },
  {
   "cell_type": "code",
   "execution_count": 8,
   "id": "a78d91e8",
   "metadata": {},
   "outputs": [],
   "source": [
    "# Dividimos la tabla en entrenamiento y prueba\n",
    "X_train, X_test, y_train, y_test = train_test_split(\n",
    "    glass[variables_independientes_clasificacion],\n",
    "    glass[variable_objetivo_clasificacion], test_size=0.20, random_state=2021)"
   ]
  },
  {
   "cell_type": "code",
   "execution_count": 9,
   "id": "21cd9cf1",
   "metadata": {},
   "outputs": [
    {
     "data": {
      "text/plain": [
       "6"
      ]
     },
     "execution_count": 9,
     "metadata": {},
     "output_type": "execute_result"
    }
   ],
   "source": [
    "# Nos damos una idea de aproximadamente cuántos k-vecinos podríamos elegir\n",
    "k_categorias = len(y_train.unique())\n",
    "k_categorias"
   ]
  },
  {
   "cell_type": "code",
   "execution_count": 10,
   "id": "83dc248a",
   "metadata": {},
   "outputs": [
    {
     "data": {
      "text/plain": [
       "KNeighborsClassifier(n_neighbors=6)"
      ]
     },
     "execution_count": 10,
     "metadata": {},
     "output_type": "execute_result"
    }
   ],
   "source": [
    "# Intentamos para k_vecinos igual a 6\n",
    "clasificador_knn = KNeighborsClassifier(n_neighbors=6, \n",
    "                                        weights=\"uniform\")\n",
    "clasificador_knn.fit(X_train, y_train)"
   ]
  },
  {
   "cell_type": "code",
   "execution_count": 11,
   "id": "e7bcf9e1",
   "metadata": {},
   "outputs": [
    {
     "data": {
      "text/plain": [
       "0.5581395348837209"
      ]
     },
     "execution_count": 11,
     "metadata": {},
     "output_type": "execute_result"
    }
   ],
   "source": [
    "preds = clasificador_knn.predict(X_test)\n",
    "f1_score(y_test, preds, average=\"micro\")"
   ]
  },
  {
   "cell_type": "markdown",
   "id": "99d180a2",
   "metadata": {},
   "source": [
    "En este último paso, average = \"micro\" se utiliza para cuando tienes distribuciones desbalanceadas en tu variable objetivo. Si hubiésemos tenido más o menos la misma proporción de tipos de vidrio entonces hubiese sido mejor utilizar average = \"macro\"."
   ]
  },
  {
   "cell_type": "code",
   "execution_count": 12,
   "id": "3e014a43",
   "metadata": {},
   "outputs": [
    {
     "name": "stdout",
     "output_type": "stream",
     "text": [
      "(1, 0.6976744186046512, 0.6976744186046512)\n",
      "(3, 0.6976744186046512, 0.6744186046511628)\n",
      "(5, 0.5813953488372093, 0.6046511627906976)\n",
      "(7, 0.5813953488372093, 0.6046511627906976)\n",
      "(9, 0.5581395348837209, 0.5581395348837209)\n",
      "(11, 0.5581395348837209, 0.5813953488372093)\n",
      "(13, 0.5813953488372093, 0.6046511627906976)\n",
      "(15, 0.5581395348837209, 0.6046511627906976)\n",
      "(17, 0.5581395348837209, 0.6046511627906976)\n",
      "(19, 0.5813953488372093, 0.627906976744186)\n",
      "(21, 0.5581395348837209, 0.6046511627906976)\n",
      "(23, 0.5813953488372093, 0.6046511627906976)\n",
      "(25, 0.5813953488372093, 0.627906976744186)\n",
      "(27, 0.5581395348837209, 0.5813953488372093)\n",
      "(29, 0.5348837209302325, 0.5813953488372093)\n",
      "(31, 0.5348837209302325, 0.5813953488372093)\n",
      "(33, 0.5116279069767442, 0.5813953488372093)\n",
      "(35, 0.5348837209302325, 0.5813953488372093)\n",
      "(37, 0.5348837209302325, 0.5813953488372093)\n",
      "(39, 0.5348837209302325, 0.5813953488372093)\n",
      "(41, 0.5348837209302325, 0.5813953488372093)\n",
      "(43, 0.5348837209302325, 0.5813953488372093)\n",
      "(45, 0.5116279069767442, 0.6046511627906976)\n",
      "(47, 0.5116279069767442, 0.6046511627906976)\n",
      "(49, 0.5116279069767442, 0.5813953488372093)\n"
     ]
    }
   ],
   "source": [
    "# Observamos los primeros 50 vecinos cambiando el parámetro weights\n",
    "\n",
    "for k in range(1,51,2):\n",
    "    clasificador_knn_unif = KNeighborsClassifier(n_neighbors=k, \n",
    "                                        weights=\"uniform\")\n",
    "    clasificador_knn_unif.fit(X_train, y_train)\n",
    "    preds_unif = clasificador_knn_unif.predict(X_test)\n",
    "    clasificador_knn_distance = KNeighborsClassifier(n_neighbors=k, \n",
    "                                        weights=\"distance\")\n",
    "    clasificador_knn_distance.fit(X_train, y_train)\n",
    "    preds_distance = clasificador_knn_distance.predict(X_test)\n",
    "    print(f'{(k,f1_score(y_test, preds_unif, average=\"micro\"),f1_score(y_test, preds_distance, average=\"micro\"))}')"
   ]
  },
  {
   "cell_type": "markdown",
   "id": "0bbc9dc8",
   "metadata": {},
   "source": [
    "La razón por la cual se hace esto es para observar qué número de k-vecinos es mejor para utilizar, ya que no hay manera de saberlo más que a prueba y error. En este caso, los k-vecinos k = 1 y k = 3 fueron los que arrojaron mejores resultados. Utilizaremos el k = 3 con parámetro weight = \"uniform\"."
   ]
  },
  {
   "cell_type": "code",
   "execution_count": 13,
   "id": "5f267409",
   "metadata": {},
   "outputs": [
    {
     "data": {
      "text/plain": [
       "0.6976744186046512"
      ]
     },
     "execution_count": 13,
     "metadata": {},
     "output_type": "execute_result"
    }
   ],
   "source": [
    "# Creamos el modelo, lo ajustamos y evaluamos\n",
    "clasificador_knn = KNeighborsClassifier(n_neighbors=3, \n",
    "                                        weights=\"uniform\")\n",
    "\n",
    "clasificador_knn.fit(X_train, y_train)\n",
    "\n",
    "preds = clasificador_knn.predict(X_test)\n",
    "f1_score(y_test, preds, average=\"micro\")"
   ]
  },
  {
   "cell_type": "code",
   "execution_count": 14,
   "id": "7c0e825c",
   "metadata": {},
   "outputs": [],
   "source": [
    "from sklearn.model_selection import cross_val_score"
   ]
  },
  {
   "cell_type": "code",
   "execution_count": 15,
   "id": "1c72643e",
   "metadata": {},
   "outputs": [
    {
     "name": "stdout",
     "output_type": "stream",
     "text": [
      "La puntuación F1 de KNN para clasificacion en este dataset es 0.81\n"
     ]
    },
    {
     "name": "stderr",
     "output_type": "stream",
     "text": [
      "c:\\users\\luis carlos\\appdata\\local\\programs\\python\\python38\\lib\\site-packages\\sklearn\\model_selection\\_split.py:666: UserWarning: The least populated class in y has only 9 members, which is less than n_splits=10.\n",
      "  warnings.warn((\"The least populated class in y has only %d\"\n"
     ]
    }
   ],
   "source": [
    "# Realizamos la validación cruzada\n",
    "\n",
    "error_validacion_cruzada_clasificacion = np.sqrt(np.abs(\n",
    "    cross_val_score(KNeighborsClassifier(n_neighbors=3,\n",
    "                                         weights=\"uniform\"), \n",
    "                X=glass[variables_independientes_clasificacion],\n",
    "               y=glass[variable_objetivo_clasificacion], \n",
    "               scoring=\"f1_micro\",\n",
    "                    cv = 10\n",
    "        ).mean()\n",
    "      )\n",
    ")\n",
    "print(\"La puntuación F1 de KNN para clasificacion en este dataset es {:.2f}\".format(\n",
    "    error_validacion_cruzada_clasificacion))"
   ]
  },
  {
   "cell_type": "markdown",
   "id": "9efa8552",
   "metadata": {},
   "source": [
    "¡Vaya sorpresa! Tuvimos una buena clasificación, esto debido a que nuestra tabla está constituida únicamente por columnas numéricas. Cuando tenemos también columnas categóricas, el modelo KNN comienza a presentar dificultades."
   ]
  },
  {
   "cell_type": "markdown",
   "id": "59bf2593",
   "metadata": {},
   "source": [
    "### KNN para problema de regresión\n",
    "\n",
    "En este caso intentaremos predecir el valor de \"RI\" con una regresión lineal en función de las demás variables."
   ]
  },
  {
   "cell_type": "code",
   "execution_count": 16,
   "id": "7fade1b4",
   "metadata": {},
   "outputs": [],
   "source": [
    "from sklearn.neighbors import KNeighborsRegressor\n",
    "from sklearn.metrics import mean_squared_error\n",
    "\n",
    "variable_objetivo_regresion = \"RI\"\n",
    "variables_independientes_regresion = glass.drop(\n",
    "    variable_objetivo_regresion, axis=1).columns"
   ]
  },
  {
   "cell_type": "code",
   "execution_count": 17,
   "id": "0e3873f0",
   "metadata": {},
   "outputs": [],
   "source": [
    "# Partimos en entrenamiento y prueba\n",
    "\n",
    "X_train, X_test, y_train, y_test = train_test_split(\n",
    "    glass[variables_independientes_regresion],\n",
    "    glass[variable_objetivo_regresion], test_size=0.20)"
   ]
  },
  {
   "cell_type": "markdown",
   "id": "fa8896e5",
   "metadata": {},
   "source": [
    "Ahora utilizaremos k = 3 y el parámetro weights = \"distance\""
   ]
  },
  {
   "cell_type": "code",
   "execution_count": 18,
   "id": "cdebc5d5",
   "metadata": {},
   "outputs": [
    {
     "data": {
      "text/plain": [
       "KNeighborsRegressor(n_neighbors=3, weights='distance')"
      ]
     },
     "execution_count": 18,
     "metadata": {},
     "output_type": "execute_result"
    }
   ],
   "source": [
    "# Creamos el modelo y lo ajustamos\n",
    "regresor_knn = KNeighborsRegressor(n_neighbors=3, weights=\"distance\")\n",
    "\n",
    "regresor_knn.fit(X_train, y_train)"
   ]
  },
  {
   "cell_type": "code",
   "execution_count": 19,
   "id": "ae51eb54",
   "metadata": {},
   "outputs": [
    {
     "data": {
      "text/plain": [
       "array([1.51973184, 1.51626761, 1.51745755, 1.51638903, 1.52161993,\n",
       "       1.52061831, 1.51952769, 1.5169058 , 1.51792343, 1.51908548,\n",
       "       1.51688975, 1.51699473, 1.51666197, 1.51351052, 1.52127496,\n",
       "       1.51543145, 1.51696838, 1.51760143, 1.51827501, 1.51826507,\n",
       "       1.51884171, 1.51649907, 1.51777938, 1.51638548, 1.519022  ,\n",
       "       1.51745865, 1.51753794, 1.52712741, 1.52053251, 1.52171833,\n",
       "       1.51436985, 1.51685823, 1.51755489, 1.51789412, 1.51645417,\n",
       "       1.52218317, 1.51772548, 1.52334882, 1.51717404, 1.51761728,\n",
       "       1.5166268 , 1.51984662, 1.51908923])"
      ]
     },
     "execution_count": 19,
     "metadata": {},
     "output_type": "execute_result"
    }
   ],
   "source": [
    "# Observamos la predicciones\n",
    "preds = regresor_knn.predict(X_test)\n",
    "preds"
   ]
  },
  {
   "cell_type": "code",
   "execution_count": 20,
   "id": "d7ddec90",
   "metadata": {},
   "outputs": [
    {
     "data": {
      "text/plain": [
       "0.0017859042383764462"
      ]
     },
     "execution_count": 20,
     "metadata": {},
     "output_type": "execute_result"
    }
   ],
   "source": [
    "np.sqrt(np.abs(mean_squared_error(y_test, preds)))"
   ]
  },
  {
   "cell_type": "markdown",
   "id": "3387ec33",
   "metadata": {},
   "source": [
    "El modelo resultó extremadamente preciso, ya que el valor de la raíz del error cuadrático medio fue demasiado cercana a 0. Es importante tomar en cuenta que el error fue tan pequeño debido a que todos los valores de \"RI\" son muy parecidos."
   ]
  }
 ],
 "metadata": {
  "kernelspec": {
   "display_name": "Python 3 (ipykernel)",
   "language": "python",
   "name": "python3"
  },
  "language_info": {
   "codemirror_mode": {
    "name": "ipython",
    "version": 3
   },
   "file_extension": ".py",
   "mimetype": "text/x-python",
   "name": "python",
   "nbconvert_exporter": "python",
   "pygments_lexer": "ipython3",
   "version": "3.8.0"
  }
 },
 "nbformat": 4,
 "nbformat_minor": 5
}
